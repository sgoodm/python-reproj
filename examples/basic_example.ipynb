{
 "cells": [
  {
   "attachments": {},
   "cell_type": "markdown",
   "metadata": {},
   "source": [
    "In this basic example we will load a couple of line features from a GeoJSON, convert to UTM, and then check that the length of the lines are correct after reprojection.\n",
    "\n",
    "First let's load fiona to read a GeoJSON, shapely to convert data from the GeoJSON to shapely features, and reproj to do our reprojection"
   ]
  },
  {
   "cell_type": "code",
   "execution_count": 1,
   "metadata": {},
   "outputs": [],
   "source": [
    "import fiona\n",
    "from shapely.geometry import shape\n",
    "from reproj import reproj"
   ]
  },
  {
   "attachments": {},
   "cell_type": "markdown",
   "metadata": {},
   "source": [
    "Next we can open our GeoJSON containing two lines along roads in Ghana, currently using EPSG:4326"
   ]
  },
  {
   "cell_type": "code",
   "execution_count": 2,
   "metadata": {},
   "outputs": [],
   "source": [
    "\n",
    "src_4326 = fiona.open('./data/linestring_4326.geojson')"
   ]
  },
  {
   "attachments": {},
   "cell_type": "markdown",
   "metadata": {},
   "source": [
    "With reproj we can iterate of the fiona source to create shapely features for each linestring, and then reproject to EPSG:32630 - the UTM zone for Ghana (30N)."
   ]
  },
  {
   "cell_type": "code",
   "execution_count": 3,
   "metadata": {},
   "outputs": [],
   "source": [
    "shps_4326 = [shape(i.geometry) for i in src_4326]\n",
    "shps_32630 = [reproj(i, 4326, 32630) for i in shps_4326]"
   ]
  },
  {
   "attachments": {},
   "cell_type": "markdown",
   "metadata": {},
   "source": [
    "Finally we can confirm that our reprojection worked by comparing the lengths of our reprojected lines to lines which were manually reprojected and verified in QGIS"
   ]
  },
  {
   "cell_type": "code",
   "execution_count": 6,
   "metadata": {},
   "outputs": [
    {
     "name": "stdout",
     "output_type": "stream",
     "text": [
      "Reproj Lengths: [22931.694, 22275.742]\n",
      "Valid Lengths: [22931.694, 22275.742]\n"
     ]
    }
   ],
   "source": [
    "reproj_lengths = [round(i.length, 3) for i in shps_32630]\n",
    "\n",
    "\n",
    "src_32630 = fiona.open('./data/linestring_32630.geojson')\n",
    "valid_lengths = [round(shape(i.geometry).length, 3) for i in src_32630]\n",
    "\n",
    "print('Reproj Lengths:', reproj_lengths)\n",
    "print('Valid Lengths:', valid_lengths)"
   ]
  }
 ],
 "metadata": {
  "kernelspec": {
   "display_name": "reproj",
   "language": "python",
   "name": "python3"
  },
  "language_info": {
   "codemirror_mode": {
    "name": "ipython",
    "version": 3
   },
   "file_extension": ".py",
   "mimetype": "text/x-python",
   "name": "python",
   "nbconvert_exporter": "python",
   "pygments_lexer": "ipython3",
   "version": "3.9.16"
  },
  "orig_nbformat": 4
 },
 "nbformat": 4,
 "nbformat_minor": 2
}
